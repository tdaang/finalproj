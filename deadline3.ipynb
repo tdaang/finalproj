{
 "cells": [
  {
   "cell_type": "code",
   "execution_count": null,
   "metadata": {
    "collapsed": true
   },
   "outputs": [],
   "source": [
    "def makedict(filename):\n",
    "    mustelidaedict = {}\n",
    "    mustfile = open(filename, \"r\", encoding = \"ISO-8859-15\")\n",
    "    mustrecord = mustfile.readlines()[19:]\n",
    "    for line in mustrecord:\n",
    "        record_elements = line.split(\",\")\n",
    "        species = record_elements[5]\n",
    "        age = record_elements[14] - record_elements[15]\n",
    "        mustelidaedict[species] = age\n",
    "    return mustelidaedict"
   ]
  }
 ],
 "metadata": {
  "anaconda-cloud": {},
  "kernelspec": {
   "display_name": "Python [conda root]",
   "language": "python",
   "name": "conda-root-py"
  },
  "language_info": {
   "codemirror_mode": {
    "name": "ipython",
    "version": 3
   },
   "file_extension": ".py",
   "mimetype": "text/x-python",
   "name": "python",
   "nbconvert_exporter": "python",
   "pygments_lexer": "ipython3",
   "version": "3.5.2"
  }
 },
 "nbformat": 4,
 "nbformat_minor": 2
}
